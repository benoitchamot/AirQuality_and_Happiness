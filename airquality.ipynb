{
 "cells": [
  {
   "cell_type": "code",
   "execution_count": 2,
   "metadata": {},
   "outputs": [],
   "source": [
    "import numpy as np\n",
    "import pandas as pd\n",
    "import matplotlib.pyplot as plt\n",
    "\n",
    "from pathlib import Path"
   ]
  },
  {
   "cell_type": "code",
   "execution_count": 1,
   "metadata": {},
   "outputs": [
    {
     "ename": "NameError",
     "evalue": "name 'Path' is not defined",
     "output_type": "error",
     "traceback": [
      "\u001b[1;31m---------------------------------------------------------------------------\u001b[0m",
      "\u001b[1;31mNameError\u001b[0m                                 Traceback (most recent call last)",
      "Cell \u001b[1;32mIn[1], line 25\u001b[0m\n\u001b[0;32m     22\u001b[0m \u001b[39m# 50111 rows\u001b[39;00m\n\u001b[0;32m     23\u001b[0m ext \u001b[39m=\u001b[39m exts[\u001b[39m0\u001b[39m]\n\u001b[1;32m---> 25\u001b[0m csvfile \u001b[39m=\u001b[39m Path(\u001b[39mf\u001b[39m\u001b[39m\"\u001b[39m\u001b[39mData_Sources/AirQuality/waqi-covid-\u001b[39m\u001b[39m{\u001b[39;00mext\u001b[39m}\u001b[39;00m\u001b[39m.csv\u001b[39m\u001b[39m\"\u001b[39m)\n\u001b[0;32m     27\u001b[0m data_01 \u001b[39m=\u001b[39m pd\u001b[39m.\u001b[39mread_csv(csvfile)\n\u001b[0;32m     29\u001b[0m reduced_df \u001b[39m=\u001b[39m data_01\u001b[39m.\u001b[39mloc[(data_01[\u001b[39m'\u001b[39m\u001b[39mSpecie\u001b[39m\u001b[39m'\u001b[39m] \u001b[39m==\u001b[39m aq_metrics),[\u001b[39m'\u001b[39m\u001b[39mDate\u001b[39m\u001b[39m'\u001b[39m, \u001b[39m'\u001b[39m\u001b[39mCountry\u001b[39m\u001b[39m'\u001b[39m, \u001b[39m'\u001b[39m\u001b[39mCity\u001b[39m\u001b[39m'\u001b[39m, \u001b[39m'\u001b[39m\u001b[39mmedian\u001b[39m\u001b[39m'\u001b[39m]]\n",
      "\u001b[1;31mNameError\u001b[0m: name 'Path' is not defined"
     ]
    }
   ],
   "source": [
    "# Look only at PM 25 as a measure of air quality\n",
    "aq_metrics = 'pm25'\n",
    "\n",
    "# Get all the file extensions\n",
    "exts = ['2015H1',\n",
    "'2016H1',\n",
    "'2017H1',\n",
    "'2018H1',\n",
    "'2019Q1',\n",
    "'2019Q2',\n",
    "'2019Q3',\n",
    "'2019Q4',\n",
    "'2020Q1',\n",
    "'2020Q2',\n",
    "'2020Q3',\n",
    "'2020Q4',\n",
    "'2021Q1',\n",
    "'2021Q2',\n",
    "'2021Q3',\n",
    "'2021Q4']\n",
    "\n",
    "# 50111 rows\n",
    "ext = exts[0]\n",
    "\n",
    "csvfile = Path(f\"Data_Sources/AirQuality/waqi-covid-{ext}.csv\")\n",
    "\n",
    "data_01 = pd.read_csv(csvfile)\n",
    "\n",
    "reduced_df = data_01.loc[(data_01['Specie'] == aq_metrics),['Date', 'Country', 'City', 'median']]\n",
    "reduced_df = reduced_df.groupby('Country').mean('median')\n",
    "reduced_df = reduced_df.rename(columns={'median': 'PM25'})\n",
    "reduced_df['Year'] = ext[0:4]\n",
    "reduced_df = reduced_df[['Year', 'PM25']]\n",
    "\n",
    "# Add a new CSV file to the data frame\n",
    "for ext in exts[1:]:\n",
    "    print(f\"Index: {ext}\")\n",
    "\n",
    "    # Load CSV file for the extension and add to a new DataFrame\n",
    "    csvfile = Path(f\"Data_Sources/AirQuality/waqi-covid-{ext}.csv\")\n",
    "    data_01 = pd.read_csv(csvfile)\n",
    "\n",
    "    # Filter the data by the air quality metric and select the column\n",
    "    new_df = data_01.loc[(data_01['Specie'] == aq_metrics),['Date', 'Country', 'City', 'median']]\n",
    "\n",
    "    # Get the mean of the median over the whole time period for each country\n",
    "    new_df = new_df.groupby('Country').mean('median')\n",
    "    new_df = new_df.rename(columns={'median': 'PM25'})\n",
    "\n",
    "    # Get the year from the extension name\n",
    "    new_df['Year'] = ext[0:4]\n",
    "    new_df = new_df[['Year', 'PM25']]\n",
    "\n",
    "    # Add the data to the main DataFrame\n",
    "    reduced_df = pd.concat([reduced_df, new_df])\n",
    "\n",
    "reduced_df"
   ]
  },
  {
   "cell_type": "code",
   "execution_count": 107,
   "metadata": {},
   "outputs": [],
   "source": [
    "# Group by country and year\n",
    "group_by_year = reduced_df.groupby(['Country','Year']).mean()\n",
    "\n",
    "# Save DataFrame to CSV\n",
    "group_by_year.to_csv('Cleaned_Datasets/cleaned_airquality.csv')"
   ]
  }
 ],
 "metadata": {
  "kernelspec": {
   "display_name": "dev",
   "language": "python",
   "name": "python3"
  },
  "language_info": {
   "codemirror_mode": {
    "name": "ipython",
    "version": 3
   },
   "file_extension": ".py",
   "mimetype": "text/x-python",
   "name": "python",
   "nbconvert_exporter": "python",
   "pygments_lexer": "ipython3",
   "version": "3.10.11"
  },
  "orig_nbformat": 4
 },
 "nbformat": 4,
 "nbformat_minor": 2
}
