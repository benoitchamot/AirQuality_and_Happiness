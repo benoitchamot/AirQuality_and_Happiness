{
 "cells": [
  {
   "cell_type": "markdown",
   "metadata": {},
   "source": [
    "# Country and State Codes\n",
    "In some files, a two-letter country code (or state code for the US) is used instead of the full country name. A module has been added to the repo to allow any user to easily retrieve the country name from the two-letter code."
   ]
  },
  {
   "cell_type": "markdown",
   "metadata": {},
   "source": [
    "## Example 1: retrieve all country name for the air quality dataset\n",
    "This code can be used (within this notebook or copied to a different notebook) to get the full country or state name based on the country code."
   ]
  },
  {
   "cell_type": "markdown",
   "metadata": {},
   "source": [
    "### Step 1: get all the country codes from the dataset"
   ]
  },
  {
   "cell_type": "code",
   "execution_count": 30,
   "metadata": {},
   "outputs": [],
   "source": [
    "# Dependencies\n",
    "import pandas as pd\n",
    "from pathlib import Path\n",
    "\n",
    "# Get country code list from clean_airquality data file\n",
    "csvfile = Path(\"Cleaned_Datasets/cleaned_airquality.csv\")\n",
    "airquality = pd.read_csv(csvfile)\n",
    "\n",
    "# Save country codes to a list\n",
    "country_codes = airquality['Country'].unique().tolist()"
   ]
  },
  {
   "cell_type": "markdown",
   "metadata": {},
   "source": [
    "### Step 2: use the module to retrieve the country names"
   ]
  },
  {
   "cell_type": "code",
   "execution_count": 32,
   "metadata": {},
   "outputs": [
    {
     "name": "stdout",
     "output_type": "stream",
     "text": [
      "AE: United Arab Emirates\n",
      "AF: Afghanistan\n",
      "AR: Argentina\n",
      "AT: Austria\n",
      "AU: Australia\n",
      "BA: Bosnia and Herzegovina\n",
      "BD: Bangladesh\n",
      "BE: Belgium\n",
      "BG: Bulgaria\n",
      "BH: Bahrain\n",
      "BR: Brazil\n",
      "CA: Canada\n",
      "CH: Switzerland\n",
      "CI: Côte d'Ivoire\n",
      "CL: Chile\n",
      "CN: China\n",
      "CO: Colombia\n",
      "CR: Costa Rica\n",
      "CW: Curaçao\n",
      "CY: Cyprus\n",
      "CZ: Czechia\n",
      "DE: Germany\n",
      "DK: Denmark\n",
      "DZ: Algeria\n",
      "EC: Ecuador\n",
      "EE: Estonia\n",
      "ES: Spain\n",
      "ET: Ethiopia\n",
      "FI: Finland\n",
      "FR: France\n",
      "GB: United Kingdom of Great Britain and Northern Ireland\n",
      "GE: Georgia\n",
      "GH: Ghana\n",
      "GN: Guinea\n",
      "GR: Greece\n",
      "GT: Guatemala\n",
      "HK: Hong Kong\n",
      "HR: Croatia\n",
      "HU: Hungary\n",
      "ID: Indonesia\n",
      "IE: Ireland\n",
      "IL: Israel\n",
      "IN: India\n",
      "IQ: Iraq\n",
      "IR: Iran (Islamic Republic of)\n",
      "IS: Iceland\n",
      "IT: Italy\n",
      "JO: Jordan\n",
      "JP: Japan\n",
      "KG: Kyrgyzstan\n",
      "KR: Republic of Korea\n",
      "KW: Kuwait\n",
      "KZ: Kazakhstan\n",
      "LA: Lao People's Democratic Republic\n",
      "LK: Sri Lanka\n",
      "LT: Lithuania\n",
      "MK: North Macedonia\n",
      "ML: Mali\n",
      "MM: Myanmar\n",
      "MN: Mongolia\n",
      "MO: Macao\n",
      "MX: Mexico\n",
      "NL: The Netherlands\n",
      "NO: Norway\n",
      "NP: Nepal\n",
      "NZ: New Zealand\n",
      "PE: Peru\n",
      "PH: Philippines\n",
      "PK: Pakistan\n",
      "PL: Poland\n",
      "PR: Puerto Rico\n",
      "PT: Portugal\n",
      "RE: Réunion\n",
      "RO: Romania\n",
      "RS: Serbia\n",
      "RU: Russian Federation\n",
      "SA: Saudi Arabia\n",
      "SE: Sweden\n",
      "SG: Singapore\n",
      "SK: Slovakia\n",
      "SV: El Salvador\n",
      "TH: Thailand\n",
      "TJ: Tajikistan\n",
      "TM: Turkmenistan\n",
      "TR: Türkiye\n",
      "TW: Taiwan\n",
      "UA: Ukraine\n",
      "UG: Uganda\n",
      "US: United States of America\n",
      "UZ: Uzbekistan\n",
      "VN: Viet Nam\n",
      "XK: Kosovo\n",
      "ZA: South Africa\n"
     ]
    }
   ],
   "source": [
    "# Dependencies\n",
    "from countries import get_country\n",
    "\n",
    "# Loop through the list\n",
    "for code in country_codes:\n",
    "    # Retrieve the country name based on the country code\n",
    "    country_name = get_country(code)\n",
    "\n",
    "    # Print the code and country name\n",
    "    print(f\"{code}: {country_name}\")"
   ]
  }
 ],
 "metadata": {
  "kernelspec": {
   "display_name": "dev",
   "language": "python",
   "name": "python3"
  },
  "language_info": {
   "codemirror_mode": {
    "name": "ipython",
    "version": 3
   },
   "file_extension": ".py",
   "mimetype": "text/x-python",
   "name": "python",
   "nbconvert_exporter": "python",
   "pygments_lexer": "ipython3",
   "version": "3.10.11"
  },
  "orig_nbformat": 4
 },
 "nbformat": 4,
 "nbformat_minor": 2
}
