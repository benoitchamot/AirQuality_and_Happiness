{
 "cells": [
  {
   "cell_type": "markdown",
   "metadata": {},
   "source": [
    "# Analysis of Air Quality and Hospitalisations in the US\n",
    "## Introduction\n",
    "In this notebook, we compare the air quality data and the number of hospitalisation per US state per year. The geographical area was selected based on the availability of data for both air quality and hospitalisation: we could not easily find similar data for other countries or regions. This is a follow-up to the analysis on air quality and asthma prevalence. In that previous analysis, we found a counterintuitive negative correlation between air quality and asthma prevalence. We wanted to take the analysis a step further by not looking at the number of people having asthma but rather at the possible impact of poorer air quality on severe asthma symptoms that require hospitalisation. In this part of the study, we expect to see a positive correlation between poor air quality and hospitalisation. In other words: the higher the concentration of PM2.5, the more people with asthma will have to be hospitalised."
   ]
  },
  {
   "cell_type": "markdown",
   "metadata": {},
   "source": [
    "## Preparation of data\n",
    "This is done in phases:\n",
    "1. Import dependencies for preparation and analysis\n",
    "2. Import the first dataset (air quality per US state)\n",
    "3. Import the second dataset (hospitalisation for asthma per US state)\n",
    "4. Merge both datasets"
   ]
  },
  {
   "cell_type": "markdown",
   "metadata": {},
   "source": [
    "### Dependencies"
   ]
  },
  {
   "cell_type": "code",
   "execution_count": null,
   "metadata": {},
   "outputs": [],
   "source": [
    "# Dependencies\n",
    "import pandas as pd\n",
    "from pathlib import Path\n",
    "import matplotlib.pyplot as plt\n",
    "from scipy import stats\n",
    "import hvplot.pandas\n",
    "import requests\n",
    "\n",
    "# Turn off warning messages\n",
    "import warnings\n",
    "warnings.filterwarnings(\"ignore\")"
   ]
  },
  {
   "cell_type": "markdown",
   "metadata": {},
   "source": [
    "### Dataset 1: air quality per US states\n",
    "We first import the clean dataset of air quality data (PM 2.5 concentration) per US state and per year. The dataset is loaded into a DataFrame and displayed."
   ]
  },
  {
   "cell_type": "code",
   "execution_count": null,
   "metadata": {},
   "outputs": [],
   "source": [
    "airquality_csv = Path(\"Cleaned_Datasets/cleaned_airquality_usstates.csv\")\n",
    "airquality_df = pd.read_csv(airquality_csv)\n",
    "airquality_df = airquality_df.rename(columns={'PM25': 'PM2.5'})\n",
    "airquality_df"
   ]
  },
  {
   "cell_type": "markdown",
   "metadata": {},
   "source": [
    "### Dataset 2: hospitalisation per US states\n",
    "We then import the clean dataset of hospitalisation related to asthma per US state and per year. The dataset is loaded into a DataFrame and displayed. Because the values are saved as strings with comma-separated thousands, the data must then be converted to a numeric value using a pandas function."
   ]
  },
  {
   "cell_type": "code",
   "execution_count": null,
   "metadata": {},
   "outputs": [],
   "source": [
    "hospital_csv = Path(\"Cleaned_Datasets/cleaned_hospitalisations.csv\")\n",
    "hospital_norformat_df = pd.read_csv(hospital_csv)\n",
    "hospital_raw_df = hospital_norformat_df.rename(columns={'No. of Hospitalisations' : 'Hosp.'})\n",
    "\n",
    "hospital_df = hospital_raw_df.iloc[:]\n",
    "\n",
    "# Convert hospitalisation data from string to numeric, take into account that the str includes a , to separate thousands\n",
    "# Example: this will convert '1,042' to 1042.0\n",
    "hospital_df[\"Hosp.\"] = pd.to_numeric(hospital_df['Hosp.'].str.replace(\",\",\"\"))\n",
    "hospital_df"
   ]
  },
  {
   "cell_type": "markdown",
   "metadata": {},
   "source": [
    "### Merge datasets\n",
    "Both DataFrames are merged into one based on states and years. The 'inner' method is used to keep only the states and years for which both the PM2.5 and hospitalisation data exist. "
   ]
  },
  {
   "cell_type": "code",
   "execution_count": null,
   "metadata": {},
   "outputs": [],
   "source": [
    "airqual_hospital_df = pd.merge(airquality_df, hospital_df, on=['State','Year'],how='inner')\n",
    "airqual_hospital_df"
   ]
  },
  {
   "cell_type": "markdown",
   "metadata": {},
   "source": [
    "## Data analysis\n",
    "In this section, we use the merged DataFrame to determine the correlation between the PM2.5 concentration in each US states for each year and the number of hospitalisation for the same year and state."
   ]
  },
  {
   "cell_type": "code",
   "execution_count": null,
   "metadata": {},
   "outputs": [],
   "source": [
    "figure = plt.figure()\n",
    "fig1 = airqual_hospital_df.plot.scatter('PM2.5','Hosp.', figsize=(8,5))\n",
    "fig1.set_ylabel('No. of Hospitalisation for Asthma')\n",
    "\n",
    "x_data = airqual_hospital_df['PM2.5']\n",
    "y_data = airqual_hospital_df['Hosp.']\n",
    "\n",
    "plt.hlines(0,min(x_data),max(x_data),colors='black')\n",
    "\n",
    "[slope, intercept, rvalue, pvalue, stdeve] = stats.linregress(x_data,y_data)\n",
    "y_reg = slope*x_data + intercept\n",
    "\n",
    "plt.plot(x_data,y_reg,'r')\n",
    "\n",
    "# Save figure as PNG to add to presentation\n",
    "plt.savefig('Images/PM25_and_Hospitalisation_US.png')\n",
    "\n",
    "# SHow\n",
    "plt.show()"
   ]
  },
  {
   "cell_type": "markdown",
   "metadata": {},
   "source": [
    "### Correlation"
   ]
  },
  {
   "cell_type": "code",
   "execution_count": null,
   "metadata": {},
   "outputs": [],
   "source": [
    "# Print the correlation coefficient bewteen PM2.5 and Number of hospitalisation\n",
    "print(f\"Correlation between PM2.5 density and hopsitalisation for asthma: {rvalue:.3f}\")"
   ]
  },
  {
   "cell_type": "markdown",
   "metadata": {},
   "source": [
    "We find a moderate correlation between the PM2.5 concentration and the number of hospitalisation. By looking at the scatter plot and the linear regression model, we can estimate that a linear model may not be the best fit and a square or exponential model may be more accurate. Nonetheless, the trend is clear that the higher the concentration of PM2.5 is, the more hospital admissions for asthma symptoms are observed."
   ]
  },
  {
   "cell_type": "markdown",
   "metadata": {},
   "source": [
    "# Gegraphical distribution"
   ]
  },
  {
   "cell_type": "code",
   "execution_count": null,
   "metadata": {},
   "outputs": [],
   "source": [
    "# Looking at the data for 2018 only\n",
    "airqual_hospital_2018_df = airqual_hospital_df.loc[airqual_hospital_df['Year']==2018,:]\n",
    "\n",
    "try:\n",
    "    # Dependencies\n",
    "    from api_keys import api_key_geoapify\n",
    "\n",
    "    # Build the endpoint URL\n",
    "    base_url = f\"https://api.geoapify.com/v1/geocode/search?\"\n",
    "\n",
    "    params = {\n",
    "        \"apiKey\":api_key_geoapify,\n",
    "        \"format\":\"json\",\n",
    "    }\n",
    "\n",
    "    # Iterate through the types_df DataFrame\n",
    "    for index, row in airqual_hospital_2018_df.iterrows():\n",
    "\n",
    "        # Print current status\n",
    "        print(f\"Now adding longitude/latitude for: {airqual_hospital_2018_df.loc[index,'State']}...\")\n",
    "\n",
    "        # Add the state name as the search text\n",
    "        params[\"text\"] = airqual_hospital_2018_df.loc[index,'State']\n",
    "\n",
    "        # Run request\n",
    "        response = requests.get(base_url,params=params).json()\n",
    "\n",
    "        airqual_hospital_2018_df.loc[index,'Lat'] = response['results'][0]['lat']\n",
    "        airqual_hospital_2018_df.loc[index,'Lon'] = response['results'][0]['lon']\n",
    "    \n",
    "    display(airqual_hospital_2018_df)\n",
    "except:\n",
    "    print('Error: No API key found or Wrong API key.')\n",
    "    print('Follow the steps below to solve:')\n",
    "    print('1. Create a file called api_keys.py')\n",
    "    print('2. In the file, include the line: api_key_geoapify = \"...\"')\n",
    "    print('3. Replace ... with your geoapify API key')\n",
    "    print('4. Restart Kernel and run this notebook again.')"
   ]
  },
  {
   "cell_type": "code",
   "execution_count": null,
   "metadata": {},
   "outputs": [],
   "source": [
    "try:\n",
    "    # Configure the map\n",
    "    map_plot_1 = airqual_hospital_2018_df.hvplot.points(\n",
    "        'Lon',\n",
    "        'Lat',\n",
    "        geo=True,\n",
    "        tiles = \"OSM\",\n",
    "        frame_width = 800,\n",
    "        frame_height = 600,\n",
    "        size = \"Hosp.\",\n",
    "        scale = 0.5,\n",
    "        color = \"PM2.5\",\n",
    "        cmap='bkr'\n",
    "    )\n",
    "\n",
    "    # Display the map\n",
    "    display(map_plot_1)\n",
    "except:\n",
    "    print('Please run the block above first and make sure your API key is valid.')"
   ]
  },
  {
   "cell_type": "markdown",
   "metadata": {},
   "source": [
    "# Answer to key questions\n",
    "## Does a country’s air quality have an impact on the hospital admission due to asthma?\n",
    "Yes. Although the data available do not allow to draw any conclusion for causality, there is a correlation between the concentration of PM2.5 in the air and the number of hospital admissions due to asthma. The higher concentration of PM2.5 is expected to cause asthmatic reactions and the data confirm that this could be the case."
   ]
  }
 ],
 "metadata": {
  "kernelspec": {
   "display_name": "dev",
   "language": "python",
   "name": "python3"
  },
  "language_info": {
   "codemirror_mode": {
    "name": "ipython",
    "version": 3
   },
   "file_extension": ".py",
   "mimetype": "text/x-python",
   "name": "python",
   "nbconvert_exporter": "python",
   "pygments_lexer": "ipython3",
   "version": "3.10.11"
  },
  "orig_nbformat": 4
 },
 "nbformat": 4,
 "nbformat_minor": 2
}
