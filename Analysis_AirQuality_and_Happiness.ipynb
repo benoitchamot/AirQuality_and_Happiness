{
 "cells": [
  {
   "attachments": {},
   "cell_type": "markdown",
   "metadata": {},
   "source": [
    "# Analysis: air quality vs happiness index"
   ]
  },
  {
   "cell_type": "code",
   "execution_count": 129,
   "metadata": {},
   "outputs": [],
   "source": [
    "# Dependencies\n",
    "import pandas as pd\n",
    "from pathlib import Path\n",
    "import matplotlib.pyplot as plt\n",
    "from pprint import pprint\n",
    "from scipy import stats\n",
    "\n",
    "# Dependencies (local modules)\n",
    "from countries import get_country"
   ]
  },
  {
   "attachments": {},
   "cell_type": "markdown",
   "metadata": {},
   "source": [
    "## Import air quality and happiness index\n",
    "### Cleaned datasets\n",
    "- cleaned_happiness_index.csv\n",
    "- cleaned_airquality.csv"
   ]
  },
  {
   "cell_type": "code",
   "execution_count": 130,
   "metadata": {},
   "outputs": [],
   "source": [
    "# Import CSV to DataFrames\n",
    "csv_airquality = Path(\"Cleaned_Datasets/cleaned_airquality.csv\")\n",
    "csv_happiness = Path(\"Cleaned_Datasets/cleaned_happiness_index.csv\")\n",
    "\n",
    "airquality_df = pd.read_csv(csv_airquality)\n",
    "happiness_df = pd.read_csv(csv_happiness)"
   ]
  },
  {
   "cell_type": "code",
   "execution_count": 131,
   "metadata": {},
   "outputs": [
    {
     "name": "stdout",
     "output_type": "stream",
     "text": [
      "93 countries found.\n",
      "['United Arab Emirates',\n",
      " 'Afghanistan',\n",
      " 'Argentina',\n",
      " 'Austria',\n",
      " 'Australia',\n",
      " 'Bosnia and Herzegovina',\n",
      " 'Bangladesh',\n",
      " 'Belgium',\n",
      " 'Bulgaria',\n",
      " 'Bahrain',\n",
      " 'Brazil',\n",
      " 'Canada',\n",
      " 'Switzerland',\n",
      " \"Cote d'Ivoire\",\n",
      " 'Chile',\n",
      " 'China',\n",
      " 'Colombia',\n",
      " 'Costa Rica',\n",
      " 'Curaçao',\n",
      " 'Cyprus',\n",
      " 'Czechia',\n",
      " 'Germany',\n",
      " 'Denmark',\n",
      " 'Algeria',\n",
      " 'Ecuador',\n",
      " 'Estonia',\n",
      " 'Spain',\n",
      " 'Ethiopia',\n",
      " 'Finland',\n",
      " 'France',\n",
      " 'United Kingdom of Great Britain and Northern Ireland',\n",
      " 'Georgia',\n",
      " 'Ghana',\n",
      " 'Guinea',\n",
      " 'Greece',\n",
      " 'Guatemala',\n",
      " 'Hong Kong',\n",
      " 'Croatia',\n",
      " 'Hungary',\n",
      " 'Indonesia',\n",
      " 'Ireland',\n",
      " 'Israel',\n",
      " 'India',\n",
      " 'Iraq',\n",
      " 'Iran (Islamic Republic of)',\n",
      " 'Iceland',\n",
      " 'Italy',\n",
      " 'Jordan',\n",
      " 'Japan',\n",
      " 'Kyrgyzstan',\n",
      " 'Republic of Korea',\n",
      " 'Kuwait',\n",
      " 'Kazakhstan',\n",
      " \"Lao People's Democratic Republic\",\n",
      " 'Sri Lanka',\n",
      " 'Lithuania',\n",
      " 'North Macedonia',\n",
      " 'Mali',\n",
      " 'Myanmar',\n",
      " 'Mongolia',\n",
      " 'Macao',\n",
      " 'Mexico',\n",
      " 'The Netherlands',\n",
      " 'Norway',\n",
      " 'Nepal',\n",
      " 'New Zealand',\n",
      " 'Peru',\n",
      " 'Philippines',\n",
      " 'Pakistan',\n",
      " 'Poland',\n",
      " 'Puerto Rico',\n",
      " 'Portugal',\n",
      " 'Réunion',\n",
      " 'Romania',\n",
      " 'Serbia',\n",
      " 'Russian Federation',\n",
      " 'Saudi Arabia',\n",
      " 'Sweden',\n",
      " 'Singapore',\n",
      " 'Slovakia',\n",
      " 'El Salvador',\n",
      " 'Thailand',\n",
      " 'Tajikistan',\n",
      " 'Turkmenistan',\n",
      " 'Türkiye',\n",
      " 'Taiwan',\n",
      " 'Ukraine',\n",
      " 'Uganda',\n",
      " 'United States of America',\n",
      " 'Uzbekistan',\n",
      " 'Viet Nam',\n",
      " 'Kosovo',\n",
      " 'South Africa']\n"
     ]
    }
   ],
   "source": [
    "# Air quality data uses country code instead of country name\n",
    "\n",
    "# Iterate through the DataFrame\n",
    "for index, row in airquality_df.iterrows():\n",
    "    # Replace the country code by the country name\n",
    "    airquality_df.loc[index,'Country'] = get_country(airquality_df.loc[index,'Country'])\n",
    "\n",
    "# List all the countries in the air quality DataFrame\n",
    "airquality_countries = airquality_df['Country'].unique().tolist()\n",
    "print(f\"{len(airquality_countries)} countries found.\")\n",
    "pprint(airquality_countries)"
   ]
  },
  {
   "cell_type": "code",
   "execution_count": 132,
   "metadata": {},
   "outputs": [
    {
     "data": {
      "text/html": [
       "<div>\n",
       "<style scoped>\n",
       "    .dataframe tbody tr th:only-of-type {\n",
       "        vertical-align: middle;\n",
       "    }\n",
       "\n",
       "    .dataframe tbody tr th {\n",
       "        vertical-align: top;\n",
       "    }\n",
       "\n",
       "    .dataframe thead th {\n",
       "        text-align: right;\n",
       "    }\n",
       "</style>\n",
       "<table border=\"1\" class=\"dataframe\">\n",
       "  <thead>\n",
       "    <tr style=\"text-align: right;\">\n",
       "      <th></th>\n",
       "      <th>Country</th>\n",
       "      <th>Year</th>\n",
       "      <th>Rank</th>\n",
       "      <th>Score</th>\n",
       "    </tr>\n",
       "  </thead>\n",
       "  <tbody>\n",
       "    <tr>\n",
       "      <th>0</th>\n",
       "      <td>Switzerland</td>\n",
       "      <td>2015</td>\n",
       "      <td>1</td>\n",
       "      <td>7.587</td>\n",
       "    </tr>\n",
       "    <tr>\n",
       "      <th>1</th>\n",
       "      <td>Iceland</td>\n",
       "      <td>2015</td>\n",
       "      <td>2</td>\n",
       "      <td>7.561</td>\n",
       "    </tr>\n",
       "    <tr>\n",
       "      <th>2</th>\n",
       "      <td>Denmark</td>\n",
       "      <td>2015</td>\n",
       "      <td>3</td>\n",
       "      <td>7.527</td>\n",
       "    </tr>\n",
       "    <tr>\n",
       "      <th>3</th>\n",
       "      <td>Norway</td>\n",
       "      <td>2015</td>\n",
       "      <td>4</td>\n",
       "      <td>7.522</td>\n",
       "    </tr>\n",
       "    <tr>\n",
       "      <th>4</th>\n",
       "      <td>Canada</td>\n",
       "      <td>2015</td>\n",
       "      <td>5</td>\n",
       "      <td>7.427</td>\n",
       "    </tr>\n",
       "  </tbody>\n",
       "</table>\n",
       "</div>"
      ],
      "text/plain": [
       "       Country  Year  Rank  Score\n",
       "0  Switzerland  2015     1  7.587\n",
       "1      Iceland  2015     2  7.561\n",
       "2      Denmark  2015     3  7.527\n",
       "3       Norway  2015     4  7.522\n",
       "4       Canada  2015     5  7.427"
      ]
     },
     "execution_count": 132,
     "metadata": {},
     "output_type": "execute_result"
    }
   ],
   "source": [
    "#reformat Happiness index df to same format as air quality df\n",
    "\n",
    "# Create a list of years\n",
    "years = [str(year) for year in range(2015, 2020)]\n",
    "\n",
    "# Create an empty DataFrame to store the reformatted data\n",
    "happiness_reformatted = pd.DataFrame()\n",
    "\n",
    "# Iterate over the years and extract the 'Rank' and 'Score' columns for each year\n",
    "for year in years:\n",
    "    rank_column = 'Rank ' + year\n",
    "    score_column = 'Score ' + year\n",
    "\n",
    "    year_data = pd.DataFrame()\n",
    "    year_data['Country'] = happiness_df['Country']\n",
    "    year_data['Year'] = [year] * len(happiness_df)\n",
    "    year_data['Rank'] = happiness_df[rank_column]\n",
    "    year_data['Score'] = happiness_df[score_column]\n",
    "\n",
    "    happiness_reformatted = pd.concat([happiness_reformatted, year_data], ignore_index=True)\n",
    "\n",
    "# Display the reformatted 'Happiness' DataFrame\n",
    "happiness_reformatted.head()\n",
    "\n",
    "\n"
   ]
  },
  {
   "cell_type": "code",
   "execution_count": 133,
   "metadata": {},
   "outputs": [],
   "source": [
    "# Convert the 'Year' column to a consistent data type in both DataFrames\n",
    "airquality_df['Year'] = airquality_df['Year'].astype(str)\n",
    "happiness_reformatted['Year'] = happiness_reformatted['Year'].astype(str)\n"
   ]
  },
  {
   "cell_type": "code",
   "execution_count": 134,
   "metadata": {},
   "outputs": [
    {
     "data": {
      "text/html": [
       "<div>\n",
       "<style scoped>\n",
       "    .dataframe tbody tr th:only-of-type {\n",
       "        vertical-align: middle;\n",
       "    }\n",
       "\n",
       "    .dataframe tbody tr th {\n",
       "        vertical-align: top;\n",
       "    }\n",
       "\n",
       "    .dataframe thead th {\n",
       "        text-align: right;\n",
       "    }\n",
       "</style>\n",
       "<table border=\"1\" class=\"dataframe\">\n",
       "  <thead>\n",
       "    <tr style=\"text-align: right;\">\n",
       "      <th></th>\n",
       "      <th>Country</th>\n",
       "      <th>Year</th>\n",
       "      <th>Rank</th>\n",
       "      <th>Score</th>\n",
       "    </tr>\n",
       "  </thead>\n",
       "  <tbody>\n",
       "    <tr>\n",
       "      <th>0</th>\n",
       "      <td>Switzerland</td>\n",
       "      <td>2015</td>\n",
       "      <td>1</td>\n",
       "      <td>7.587</td>\n",
       "    </tr>\n",
       "    <tr>\n",
       "      <th>1</th>\n",
       "      <td>Iceland</td>\n",
       "      <td>2015</td>\n",
       "      <td>2</td>\n",
       "      <td>7.561</td>\n",
       "    </tr>\n",
       "    <tr>\n",
       "      <th>2</th>\n",
       "      <td>Denmark</td>\n",
       "      <td>2015</td>\n",
       "      <td>3</td>\n",
       "      <td>7.527</td>\n",
       "    </tr>\n",
       "    <tr>\n",
       "      <th>3</th>\n",
       "      <td>Norway</td>\n",
       "      <td>2015</td>\n",
       "      <td>4</td>\n",
       "      <td>7.522</td>\n",
       "    </tr>\n",
       "    <tr>\n",
       "      <th>4</th>\n",
       "      <td>Canada</td>\n",
       "      <td>2015</td>\n",
       "      <td>5</td>\n",
       "      <td>7.427</td>\n",
       "    </tr>\n",
       "    <tr>\n",
       "      <th>5</th>\n",
       "      <td>Finland</td>\n",
       "      <td>2015</td>\n",
       "      <td>6</td>\n",
       "      <td>7.406</td>\n",
       "    </tr>\n",
       "    <tr>\n",
       "      <th>6</th>\n",
       "      <td>Netherlands</td>\n",
       "      <td>2015</td>\n",
       "      <td>7</td>\n",
       "      <td>7.378</td>\n",
       "    </tr>\n",
       "    <tr>\n",
       "      <th>7</th>\n",
       "      <td>Sweden</td>\n",
       "      <td>2015</td>\n",
       "      <td>8</td>\n",
       "      <td>7.364</td>\n",
       "    </tr>\n",
       "    <tr>\n",
       "      <th>8</th>\n",
       "      <td>New Zealand</td>\n",
       "      <td>2015</td>\n",
       "      <td>9</td>\n",
       "      <td>7.286</td>\n",
       "    </tr>\n",
       "    <tr>\n",
       "      <th>9</th>\n",
       "      <td>Australia</td>\n",
       "      <td>2015</td>\n",
       "      <td>10</td>\n",
       "      <td>7.284</td>\n",
       "    </tr>\n",
       "  </tbody>\n",
       "</table>\n",
       "</div>"
      ],
      "text/plain": [
       "       Country  Year  Rank  Score\n",
       "0  Switzerland  2015     1  7.587\n",
       "1      Iceland  2015     2  7.561\n",
       "2      Denmark  2015     3  7.527\n",
       "3       Norway  2015     4  7.522\n",
       "4       Canada  2015     5  7.427\n",
       "5      Finland  2015     6  7.406\n",
       "6  Netherlands  2015     7  7.378\n",
       "7       Sweden  2015     8  7.364\n",
       "8  New Zealand  2015     9  7.286\n",
       "9    Australia  2015    10  7.284"
      ]
     },
     "execution_count": 134,
     "metadata": {},
     "output_type": "execute_result"
    }
   ],
   "source": [
    "# Drop the rows with '0' values in the 'Rank' and 'Score' columns\n",
    "happiness_reformatted = happiness_reformatted[(happiness_reformatted['Rank'] != 0) & (happiness_reformatted['Score'] != 0)]\n",
    "\n",
    "# Reset the index of the DataFrame\n",
    "happiness_reformatted = happiness_reformatted.reset_index(drop=True)\n",
    "\n",
    "happiness_reformatted.head(10)"
   ]
  },
  {
   "cell_type": "markdown",
   "metadata": {},
   "source": [
    "## Merge DataFrames\n",
    "- Merged on country and year\n",
    "- Only countries and years present in both files are kept"
   ]
  },
  {
   "cell_type": "code",
   "execution_count": 135,
   "metadata": {},
   "outputs": [
    {
     "data": {
      "text/html": [
       "<div>\n",
       "<style scoped>\n",
       "    .dataframe tbody tr th:only-of-type {\n",
       "        vertical-align: middle;\n",
       "    }\n",
       "\n",
       "    .dataframe tbody tr th {\n",
       "        vertical-align: top;\n",
       "    }\n",
       "\n",
       "    .dataframe thead th {\n",
       "        text-align: right;\n",
       "    }\n",
       "</style>\n",
       "<table border=\"1\" class=\"dataframe\">\n",
       "  <thead>\n",
       "    <tr style=\"text-align: right;\">\n",
       "      <th></th>\n",
       "      <th>Country</th>\n",
       "      <th>Year</th>\n",
       "      <th>PM25</th>\n",
       "      <th>Rank</th>\n",
       "      <th>Score</th>\n",
       "    </tr>\n",
       "  </thead>\n",
       "  <tbody>\n",
       "    <tr>\n",
       "      <th>0</th>\n",
       "      <td>United Arab Emirates</td>\n",
       "      <td>2015</td>\n",
       "      <td>118.714286</td>\n",
       "      <td>20</td>\n",
       "      <td>6.901</td>\n",
       "    </tr>\n",
       "    <tr>\n",
       "      <th>1</th>\n",
       "      <td>Taiwan</td>\n",
       "      <td>2015</td>\n",
       "      <td>70.597296</td>\n",
       "      <td>38</td>\n",
       "      <td>6.298</td>\n",
       "    </tr>\n",
       "    <tr>\n",
       "      <th>2</th>\n",
       "      <td>Chile</td>\n",
       "      <td>2015</td>\n",
       "      <td>74.443741</td>\n",
       "      <td>27</td>\n",
       "      <td>6.670</td>\n",
       "    </tr>\n",
       "    <tr>\n",
       "      <th>3</th>\n",
       "      <td>China</td>\n",
       "      <td>2015</td>\n",
       "      <td>120.768659</td>\n",
       "      <td>84</td>\n",
       "      <td>5.140</td>\n",
       "    </tr>\n",
       "    <tr>\n",
       "      <th>4</th>\n",
       "      <td>Colombia</td>\n",
       "      <td>2015</td>\n",
       "      <td>74.106977</td>\n",
       "      <td>33</td>\n",
       "      <td>6.477</td>\n",
       "    </tr>\n",
       "  </tbody>\n",
       "</table>\n",
       "</div>"
      ],
      "text/plain": [
       "                Country  Year        PM25  Rank  Score\n",
       "0  United Arab Emirates  2015  118.714286    20  6.901\n",
       "1                Taiwan  2015   70.597296    38  6.298\n",
       "2                 Chile  2015   74.443741    27  6.670\n",
       "3                 China  2015  120.768659    84  5.140\n",
       "4              Colombia  2015   74.106977    33  6.477"
      ]
     },
     "execution_count": 135,
     "metadata": {},
     "output_type": "execute_result"
    }
   ],
   "source": [
    "# Merge the two DataFrames and keep only the countries that are in both\n",
    "analysis_df = pd.merge(airquality_df, happiness_reformatted, on=[\"Country\", \"Year\"], how=\"inner\")\n",
    "\n",
    "# Sort the DataFrame by 'Year' and rest index\n",
    "analysis_df = analysis_df.sort_values('Year')\n",
    "analysis_df = analysis_df.reset_index(drop=True)\n",
    "analysis_df.head()"
   ]
  },
  {
   "attachments": {},
   "cell_type": "markdown",
   "metadata": {},
   "source": [
    "## Data Analysis"
   ]
  },
  {
   "attachments": {},
   "cell_type": "markdown",
   "metadata": {},
   "source": [
    "### Correlation between Happiness Rank and Air Quality (PM25)\n",
    "Overall correlation for Air Quality(PM25) and Happiness Rank for all countries and all years at once."
   ]
  },
  {
   "cell_type": "code",
   "execution_count": 136,
   "metadata": {},
   "outputs": [
    {
     "name": "stdout",
     "output_type": "stream",
     "text": [
      "R-value: 0.62\n",
      "Linear model: [Rank] = 0.6884 * [PM25] + 5.84\n"
     ]
    },
    {
     "data": {
      "image/png": "[encoded data removed]",
      "text/plain": [
       "<Figure size 800x500 with 1 Axes>"
      ]
     },
     "metadata": {},
     "output_type": "display_data"
    }
   ],
   "source": [
    "# Show a scatter plot of PM25 versus Happiness Ranking for all countries and all years\n",
    "ax = analysis_df.plot.scatter(x='PM25',y='Rank', figsize=(8,5))\n",
    "\n",
    "ax.set_ylabel('Happiness Rank')\n",
    "# Create a linear regression model based on the PM25 and Happiness Rank data\n",
    "x_data = analysis_df['PM25']\n",
    "y_data = analysis_df['Rank']\n",
    "[slope, intercept, rvalue, pvalue, stdeve] = stats.linregress(x_data,y_data)\n",
    "print(f\"R-value: {rvalue:.2f}\")\n",
    "print(f\"Linear model: [Rank] = {slope:.4f} * [PM25] + {intercept:.2f}\")\n",
    "\n",
    "y_reg = slope*x_data+intercept\n",
    "plt.plot(x_data,y_reg,'r')\n",
    "\n",
    "# Show plot\n",
    "plt.show()"
   ]
  },
  {
   "attachments": {},
   "cell_type": "markdown",
   "metadata": {},
   "source": [
    "### Correlation between Happiness Score and Air Quality (PM25)\n",
    "Overall correlation for Air Quality(PM25) and Happiness Score for all countries and all years at once."
   ]
  },
  {
   "cell_type": "code",
   "execution_count": 137,
   "metadata": {},
   "outputs": [
    {
     "name": "stdout",
     "output_type": "stream",
     "text": [
      "R-value: -0.64\n",
      "Linear model: [Rank] = -0.0181 * [PM25] + 7.26\n"
     ]
    },
    {
     "data": {
      "image/png": "[encoded data removed]",
      "text/plain": [
       "<Figure size 800x500 with 1 Axes>"
      ]
     },
     "metadata": {},
     "output_type": "display_data"
    }
   ],
   "source": [
    "# Show a scatter plot of PM25 versus Score for all countries and all years\n",
    "ax = analysis_df.plot.scatter(x='PM25',y='Score', figsize=(8,5))\n",
    "\n",
    "ax.set_ylabel('Happiness Score')\n",
    "# Create a linear regression model based on the PM25 and Happiness Rank data\n",
    "x_data = analysis_df['PM25']\n",
    "y_data = analysis_df['Score']\n",
    "[slope, intercept, rvalue, pvalue, stdeve] = stats.linregress(x_data,y_data)\n",
    "print(f\"R-value: {rvalue:.2f}\")\n",
    "print(f\"Linear model: [Rank] = {slope:.4f} * [PM25] + {intercept:.2f}\")\n",
    "\n",
    "y_reg = slope*x_data+intercept\n",
    "plt.plot(x_data,y_reg,'r')\n",
    "\n",
    "# Show plot\n",
    "plt.show()"
   ]
  },
  {
   "cell_type": "code",
   "execution_count": 138,
   "metadata": {},
   "outputs": [
    {
     "data": {
      "text/plain": [
       "count    261.000000\n",
       "mean      50.670498\n",
       "std       37.681135\n",
       "min        1.000000\n",
       "25%       19.000000\n",
       "50%       44.000000\n",
       "75%       77.000000\n",
       "max      154.000000\n",
       "Name: Rank, dtype: float64"
      ]
     },
     "execution_count": 138,
     "metadata": {},
     "output_type": "execute_result"
    }
   ],
   "source": [
    "analysis_df['Rank'].describe()"
   ]
  },
  {
   "cell_type": "code",
   "execution_count": 147,
   "metadata": {},
   "outputs": [
    {
     "data": {
      "text/plain": [
       "Country    42\n",
       "Year       42\n",
       "PM25       42\n",
       "Rank       42\n",
       "Score      42\n",
       "dtype: int64"
      ]
     },
     "execution_count": 147,
     "metadata": {},
     "output_type": "execute_result"
    }
   ],
   "source": [
    "top_countries_df = analysis_df.loc[analysis_df['Rank'] <= 10]\n",
    "top_countries_df = top_countries_df.sort_values('Rank')\n",
    "\n",
    "top_countries_df.count()"
   ]
  },
  {
   "cell_type": "code",
   "execution_count": 149,
   "metadata": {},
   "outputs": [
    {
     "data": {
      "text/plain": [
       "Country    42\n",
       "Year       42\n",
       "PM25       42\n",
       "Rank       42\n",
       "Score      42\n",
       "dtype: int64"
      ]
     },
     "execution_count": 149,
     "metadata": {},
     "output_type": "execute_result"
    }
   ],
   "source": [
    "bottom_countries_df = analysis_df.loc[analysis_df['Rank'] >=92]\n",
    "bottom_countries_df = bottom_countries_df.sort_values('Rank')\n",
    "\n",
    "bottom_countries_df.count()"
   ]
  },
  {
   "cell_type": "code",
   "execution_count": 150,
   "metadata": {},
   "outputs": [
    {
     "data": {
      "image/png": "[encoded data removed]",
      "text/plain": [
       "<Figure size 640x480 with 1 Axes>"
      ]
     },
     "metadata": {},
     "output_type": "display_data"
    }
   ],
   "source": [
    "# Looking at 42 top countries and 42 bottom countries per above\n",
    "# Create a scatter plot to visualise the two ends of the spectrum\n",
    "plt.scatter(top_countries_df['PM25'], top_countries_df['Rank'], color='blue', label='Top Ranked Countries')\n",
    "\n",
    "# Create a scatter plot of the bottom countries\n",
    "plt.scatter(bottom_countries_df['PM25'], bottom_countries_df['Rank'], color='red', label='Bottom Ranked Countries')\n",
    "\n",
    "# Add a title and labels to the axes\n",
    "plt.title('Air Quality vs Happiness Rank in Top and Bottom Countries')\n",
    "plt.ylabel('Air Quality (PM25)')\n",
    "plt.xlabel('Rank')\n",
    "\n",
    "# Add a legend\n",
    "plt.legend()\n",
    "\n",
    "# Show the plot\n",
    "plt.show()"
   ]
  }
 ],
 "metadata": {
  "kernelspec": {
   "display_name": "dev",
   "language": "python",
   "name": "python3"
  },
  "language_info": {
   "codemirror_mode": {
    "name": "ipython",
    "version": 3
   },
   "file_extension": ".py",
   "mimetype": "text/x-python",
   "name": "python",
   "nbconvert_exporter": "python",
   "pygments_lexer": "ipython3",
   "version": "3.10.11"
  },
  "orig_nbformat": 4
 },
 "nbformat": 4,
 "nbformat_minor": 2
}
